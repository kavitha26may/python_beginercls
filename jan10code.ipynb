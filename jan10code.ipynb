{
 "cells": [
  {
   "cell_type": "code",
   "execution_count": 1,
   "id": "2bc2d6b5-15c3-4fc7-9401-5fc2880c3b87",
   "metadata": {},
   "outputs": [
    {
     "data": {
      "text/plain": [
       "'kavitha'"
      ]
     },
     "execution_count": 1,
     "metadata": {},
     "output_type": "execute_result"
    }
   ],
   "source": [
    "s='kavitha'\n",
    "s"
   ]
  },
  {
   "cell_type": "code",
   "execution_count": 2,
   "id": "9b70611c-107b-4e75-b818-083d934bc536",
   "metadata": {},
   "outputs": [
    {
     "data": {
      "text/plain": [
       "str"
      ]
     },
     "execution_count": 2,
     "metadata": {},
     "output_type": "execute_result"
    }
   ],
   "source": [
    "type(s)"
   ]
  },
  {
   "cell_type": "code",
   "execution_count": 4,
   "id": "b57ddd72-0ebe-4ad8-b929-22fe6e12a9bc",
   "metadata": {},
   "outputs": [
    {
     "data": {
      "text/plain": [
       "'sai'"
      ]
     },
     "execution_count": 4,
     "metadata": {},
     "output_type": "execute_result"
    }
   ],
   "source": [
    "s1=\"sai\"\n",
    "s1"
   ]
  },
  {
   "cell_type": "markdown",
   "id": "727dd164-22ba-4489-92a4-48204abbc7fa",
   "metadata": {},
   "source": [
    "s2='''kaitha\n",
    "is working'''\n",
    "s2"
   ]
  },
  {
   "cell_type": "code",
   "execution_count": 5,
   "id": "51a6165f-a0ff-4013-9b43-84aa49266cef",
   "metadata": {},
   "outputs": [
    {
     "data": {
      "text/plain": [
       "'ssk\\ngjfkgk\\nngkfj'"
      ]
     },
     "execution_count": 5,
     "metadata": {},
     "output_type": "execute_result"
    }
   ],
   "source": [
    "s2='''ssk\n",
    "gjfkgk\n",
    "ngkfj'''\n",
    "s2"
   ]
  },
  {
   "cell_type": "code",
   "execution_count": 6,
   "id": "77a2f235-d5fa-4947-8f66-00c2a232bb44",
   "metadata": {},
   "outputs": [
    {
     "name": "stdout",
     "output_type": "stream",
     "text": [
      "s\n",
      "s\n",
      "k\n",
      "\n",
      "\n",
      "g\n",
      "j\n",
      "f\n",
      "k\n",
      "g\n",
      "k\n",
      "\n",
      "\n",
      "n\n",
      "g\n",
      "k\n",
      "f\n",
      "j\n"
     ]
    }
   ],
   "source": [
    "for i in s2:\n",
    "    print(i)"
   ]
  },
  {
   "cell_type": "code",
   "execution_count": 7,
   "id": "8fe0a645-40b4-448e-b9a6-d34ed87dbb1b",
   "metadata": {},
   "outputs": [
    {
     "data": {
      "text/plain": [
       "'ssk\\ngjfkgk\\nngkfj'"
      ]
     },
     "execution_count": 7,
     "metadata": {},
     "output_type": "execute_result"
    }
   ],
   "source": [
    "s2"
   ]
  },
  {
   "cell_type": "code",
   "execution_count": 8,
   "id": "4ab5089c-996a-4b0b-9fb4-d55f071046f7",
   "metadata": {},
   "outputs": [
    {
     "data": {
      "text/plain": [
       "'\\n'"
      ]
     },
     "execution_count": 8,
     "metadata": {},
     "output_type": "execute_result"
    }
   ],
   "source": [
    "s2[3]"
   ]
  },
  {
   "cell_type": "code",
   "execution_count": 9,
   "id": "f1d298df-c418-4704-a29f-453fdfac89f1",
   "metadata": {},
   "outputs": [
    {
     "ename": "SyntaxError",
     "evalue": "closing parenthesis '}' does not match opening parenthesis '[' (129379287.py, line 1)",
     "output_type": "error",
     "traceback": [
      "\u001b[1;36m  Cell \u001b[1;32mIn[9], line 1\u001b[1;36m\u001b[0m\n\u001b[1;33m    s2[5}\u001b[0m\n\u001b[1;37m        ^\u001b[0m\n\u001b[1;31mSyntaxError\u001b[0m\u001b[1;31m:\u001b[0m closing parenthesis '}' does not match opening parenthesis '['\n"
     ]
    }
   ],
   "source": [
    "s2[5}"
   ]
  },
  {
   "cell_type": "code",
   "execution_count": 10,
   "id": "1fb49a27-ec56-491a-a78a-46a5cb842f9b",
   "metadata": {},
   "outputs": [
    {
     "data": {
      "text/plain": [
       "'j'"
      ]
     },
     "execution_count": 10,
     "metadata": {},
     "output_type": "execute_result"
    }
   ],
   "source": [
    "s2[5]"
   ]
  },
  {
   "cell_type": "code",
   "execution_count": 11,
   "id": "0cd6294a-fd27-4c4f-8916-4b56aa82fe7f",
   "metadata": {},
   "outputs": [
    {
     "data": {
      "text/plain": [
       "'k'"
      ]
     },
     "execution_count": 11,
     "metadata": {},
     "output_type": "execute_result"
    }
   ],
   "source": [
    "s2[-3]"
   ]
  },
  {
   "cell_type": "code",
   "execution_count": 13,
   "id": "4e38240a-42e5-4077-bd30-b6b6b34e502d",
   "metadata": {},
   "outputs": [
    {
     "data": {
      "text/plain": [
       "'ssk\\ng'"
      ]
     },
     "execution_count": 13,
     "metadata": {},
     "output_type": "execute_result"
    }
   ],
   "source": [
    "s2[0:5]"
   ]
  },
  {
   "cell_type": "markdown",
   "id": "d80b3f41-b55a-42db-984c-ecb3d250be09",
   "metadata": {},
   "source": []
  },
  {
   "cell_type": "code",
   "execution_count": 14,
   "id": "49458035-2023-4d63-9236-fd57464a0968",
   "metadata": {},
   "outputs": [
    {
     "data": {
      "text/plain": [
       "'\\nngkf'"
      ]
     },
     "execution_count": 14,
     "metadata": {},
     "output_type": "execute_result"
    }
   ],
   "source": [
    "s2[-6:-1]"
   ]
  },
  {
   "cell_type": "code",
   "execution_count": 21,
   "id": "cec1a0ed-ba61-4042-a29e-2541c084b792",
   "metadata": {},
   "outputs": [
    {
     "data": {
      "text/plain": [
       "'nareshit'"
      ]
     },
     "execution_count": 21,
     "metadata": {},
     "output_type": "execute_result"
    }
   ],
   "source": [
    "s3=\"nareshit\"\n",
    "s3"
   ]
  },
  {
   "cell_type": "code",
   "execution_count": 22,
   "id": "a169765b-4c49-43aa-b8da-0f383f7a68d0",
   "metadata": {},
   "outputs": [
    {
     "data": {
      "text/plain": [
       "'e'"
      ]
     },
     "execution_count": 22,
     "metadata": {},
     "output_type": "execute_result"
    }
   ],
   "source": [
    "s3[3]"
   ]
  },
  {
   "cell_type": "code",
   "execution_count": 23,
   "id": "68943286-c444-439d-b157-0c85287ab321",
   "metadata": {},
   "outputs": [
    {
     "data": {
      "text/plain": [
       "'e'"
      ]
     },
     "execution_count": 23,
     "metadata": {},
     "output_type": "execute_result"
    }
   ],
   "source": [
    "s3[-5]"
   ]
  },
  {
   "cell_type": "code",
   "execution_count": 24,
   "id": "842e2d8a-d724-4c12-aada-b7de5d63c172",
   "metadata": {},
   "outputs": [
    {
     "data": {
      "text/plain": [
       "'reshi'"
      ]
     },
     "execution_count": 24,
     "metadata": {},
     "output_type": "execute_result"
    }
   ],
   "source": [
    "s3[2:7]"
   ]
  },
  {
   "cell_type": "code",
   "execution_count": 25,
   "id": "480d9e9e-3ff6-46fd-9dca-5fbbb5efcee7",
   "metadata": {},
   "outputs": [
    {
     "data": {
      "text/plain": [
       "'shi'"
      ]
     },
     "execution_count": 25,
     "metadata": {},
     "output_type": "execute_result"
    }
   ],
   "source": [
    "s3[-4:-1]"
   ]
  },
  {
   "cell_type": "code",
   "execution_count": 26,
   "id": "2ea47b95-adfd-40b6-b81f-f540eb85c293",
   "metadata": {},
   "outputs": [
    {
     "data": {
      "text/plain": [
       "'aresh'"
      ]
     },
     "execution_count": 26,
     "metadata": {},
     "output_type": "execute_result"
    }
   ],
   "source": [
    "s3[-7:6]"
   ]
  },
  {
   "cell_type": "code",
   "execution_count": 27,
   "id": "0802d67e-746d-44b4-90c4-b1c8124e64fc",
   "metadata": {},
   "outputs": [
    {
     "data": {
      "text/plain": [
       "'nrsi'"
      ]
     },
     "execution_count": 27,
     "metadata": {},
     "output_type": "execute_result"
    }
   ],
   "source": [
    "s3[0:7:2]"
   ]
  },
  {
   "cell_type": "code",
   "execution_count": 28,
   "id": "b6878d75-5e1c-453a-917c-186efdaa9a2d",
   "metadata": {},
   "outputs": [
    {
     "data": {
      "text/plain": [
       "'ne'"
      ]
     },
     "execution_count": 28,
     "metadata": {},
     "output_type": "execute_result"
    }
   ],
   "source": [
    "s3[0:6:3]"
   ]
  },
  {
   "cell_type": "code",
   "execution_count": 34,
   "id": "9443abea-f118-4ec5-812f-2ca1bf894ee7",
   "metadata": {},
   "outputs": [
    {
     "data": {
      "text/plain": [
       "8"
      ]
     },
     "execution_count": 34,
     "metadata": {},
     "output_type": "execute_result"
    }
   ],
   "source": [
    "int.__add__(3,5)"
   ]
  },
  {
   "cell_type": "code",
   "execution_count": 30,
   "id": "bd0b06af-0f69-48c2-8d61-66a47e149c00",
   "metadata": {},
   "outputs": [
    {
     "name": "stdout",
     "output_type": "stream",
     "text": [
      "6\n"
     ]
    }
   ],
   "source": [
    "a=2\n",
    "b=4\n",
    "c=a+b\n",
    "print(c)"
   ]
  },
  {
   "cell_type": "code",
   "execution_count": 33,
   "id": "3bf8606d-70a7-47e8-92f1-bf7b92647678",
   "metadata": {},
   "outputs": [
    {
     "data": {
      "text/plain": [
       "6"
      ]
     },
     "execution_count": 33,
     "metadata": {},
     "output_type": "execute_result"
    }
   ],
   "source": [
    "int.__add__(2,4)"
   ]
  },
  {
   "cell_type": "code",
   "execution_count": null,
   "id": "0a970242-0c4b-4941-a2ad-95fd9bfddb30",
   "metadata": {},
   "outputs": [],
   "source": []
  }
 ],
 "metadata": {
  "kernelspec": {
   "display_name": "Python 3 (ipykernel)",
   "language": "python",
   "name": "python3"
  },
  "language_info": {
   "codemirror_mode": {
    "name": "ipython",
    "version": 3
   },
   "file_extension": ".py",
   "mimetype": "text/x-python",
   "name": "python",
   "nbconvert_exporter": "python",
   "pygments_lexer": "ipython3",
   "version": "3.12.7"
  }
 },
 "nbformat": 4,
 "nbformat_minor": 5
}
